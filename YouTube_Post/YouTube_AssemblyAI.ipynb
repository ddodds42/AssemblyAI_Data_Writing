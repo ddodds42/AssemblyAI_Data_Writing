{
  "nbformat": 4,
  "nbformat_minor": 0,
  "metadata": {
    "colab": {
      "name": "YouTube_AssemblyAI.ipynb",
      "provenance": [],
      "collapsed_sections": []
    },
    "kernelspec": {
      "name": "python3",
      "display_name": "Python 3"
    }
  },
  "cells": [
    {
      "cell_type": "code",
      "metadata": {
        "colab": {
          "base_uri": "https://localhost:8080/"
        },
        "id": "D79KCVbl4S3k",
        "outputId": "45848df9-2971-41af-d8bc-004eafae6934"
      },
      "source": [
        "!pip install pafy\n",
        "!apt install ffmpeg\n",
        "!sudo pip install --upgrade youtube_dl"
      ],
      "execution_count": 1,
      "outputs": [
        {
          "output_type": "stream",
          "text": [
            "Requirement already satisfied: pafy in /usr/local/lib/python3.7/dist-packages (0.5.5)\n",
            "Reading package lists... Done\n",
            "Building dependency tree       \n",
            "Reading state information... Done\n",
            "ffmpeg is already the newest version (7:3.4.8-0ubuntu0.2).\n",
            "0 upgraded, 0 newly installed, 0 to remove and 39 not upgraded.\n",
            "Requirement already up-to-date: youtube_dl in /usr/local/lib/python3.7/dist-packages (2021.6.6)\n"
          ],
          "name": "stdout"
        }
      ]
    },
    {
      "cell_type": "code",
      "metadata": {
        "colab": {
          "base_uri": "https://localhost:8080/"
        },
        "id": "1t5C1vUx53NI",
        "outputId": "4ef43604-841b-4725-bde0-fc74dc0992db"
      },
      "source": [
        "import pafy\n",
        "import subprocess\n",
        "import os\n",
        "import sys\n",
        "\n",
        "URL=\"https://www.youtube.com/watch?v=7Pq-S557XQU&t=13s\"\n",
        "\n",
        "video = pafy.new(URL)\n",
        "title = video.title.replace(\" \", \"_\")\n",
        "\n",
        "bestaudio = video.getbestaudio()\n",
        "BESTFILE = os.getcwd() + \"/\" + str(title) + \".\" + str(bestaudio.extension)\n",
        "MP3FILE = os.getcwd() + \"/\" + str(title) + \".mp3\"\n",
        "bestaudio.download(BESTFILE)\n",
        "\n",
        "command = \"ffmpeg -i \"+str(BESTFILE)+\" -vn -ab 128k -ar 44100 -y \"+str(MP3FILE)\n",
        "print(\"Command to convert audio file to .mp3 format: \", command)\n",
        "subprocess.call(command, shell=True)\n",
        "os.remove(BESTFILE)"
      ],
      "execution_count": 2,
      "outputs": [
        {
          "output_type": "stream",
          "text": [
            "\n",
            "Command to convert audio file to .mp3 format:  ffmpeg -i /content/Humans_Need_Not_Apply.webm -vn -ab 128k -ar 44100 -y /content/Humans_Need_Not_Apply.mp3\n"
          ],
          "name": "stdout"
        }
      ]
    },
    {
      "cell_type": "code",
      "metadata": {
        "colab": {
          "base_uri": "https://localhost:8080/"
        },
        "id": "pRWmBtQWHRhc",
        "outputId": "071980cf-40b6-4cac-d20f-ac9f21b98138"
      },
      "source": [
        "!pip install python-dotenv\n",
        "from dotenv import load_dotenv"
      ],
      "execution_count": 3,
      "outputs": [
        {
          "output_type": "stream",
          "text": [
            "Requirement already satisfied: python-dotenv in /usr/local/lib/python3.7/dist-packages (0.18.0)\n"
          ],
          "name": "stdout"
        }
      ]
    },
    {
      "cell_type": "code",
      "metadata": {
        "id": "LxhoExH0HY8X"
      },
      "source": [
        "from pathlib import Path\n",
        "import os\n",
        "\n",
        "env_path = Path('.')/'tokens.env'\n",
        "load_dotenv(dotenv_path=env_path)\n",
        "ASSEMBLY_AI_TOKEN = os.getenv(\"SIGN_UP_AT_ASSEMBLYAI_TO_GET_YOUR_VERY_OWN_ASSEMBLYAI_API_TOKEN\")"
      ],
      "execution_count": 4,
      "outputs": []
    },
    {
      "cell_type": "code",
      "metadata": {
        "id": "6hnSbMlfXHD9",
        "colab": {
          "base_uri": "https://localhost:8080/"
        },
        "outputId": "80ff14f4-e10a-43fe-b806-4c7706ae5761"
      },
      "source": [
        "import sys\n",
        "import time\n",
        "import requests\n",
        "\n",
        "filename = MP3FILE\n",
        "\n",
        "def read_file(filename, chunk_size=5242880):\n",
        "  with open(filename, 'rb') as _file:\n",
        "    while True:\n",
        "      data = _file.read(chunk_size)\n",
        "      if not data:\n",
        "        break\n",
        "      yield data\n",
        "\n",
        "headers = {'authorization': ASSEMBLY_AI_TOKEN}\n",
        "\n",
        "response = requests.post(\n",
        "    'https://api.assemblyai.com/v2/upload',\n",
        "    headers=headers, data=read_file(filename)\n",
        ")\n",
        "\n",
        "print(response.json())"
      ],
      "execution_count": 5,
      "outputs": [
        {
          "output_type": "stream",
          "text": [
            "{'upload_url': 'https://cdn.assemblyai.com/upload/c521a949-8484-40bd-99ff-53feea447aae'}\n"
          ],
          "name": "stdout"
        }
      ]
    },
    {
      "cell_type": "code",
      "metadata": {
        "id": "x7oqOLzlhBUK",
        "colab": {
          "base_uri": "https://localhost:8080/"
        },
        "outputId": "a76d3306-c5df-4617-e3e3-6c2962d0e9c5"
      },
      "source": [
        "endpoint = 'https://api.assemblyai.com/v2/transcript'\n",
        "\n",
        "json = {\n",
        "    # 'audio_url': response.json()['upload_url']\n",
        "    'audio_url': response.json()['upload_url']\n",
        "}\n",
        "\n",
        "heads = {\n",
        "    'authorization': ASSEMBLY_AI_TOKEN,\n",
        "    'content-type': 'application/json'\n",
        "}\n",
        "\n",
        "resp = requests.post(endpoint, json=json, headers=heads)\n",
        "print(resp.json())"
      ],
      "execution_count": 6,
      "outputs": [
        {
          "output_type": "stream",
          "text": [
            "{'id': 'czev3vzk0-af88-4d5b-ac2b-b2bc8a875203', 'language_model': 'assemblyai_default', 'acoustic_model': 'assemblyai_default', 'status': 'queued', 'audio_url': 'https://cdn.assemblyai.com/upload/c521a949-8484-40bd-99ff-53feea447aae', 'text': None, 'words': None, 'utterances': None, 'confidence': None, 'audio_duration': None, 'punctuate': True, 'format_text': True, 'dual_channel': None, 'webhook_url': None, 'webhook_status_code': None, 'speed_boost': False, 'auto_highlights_result': None, 'auto_highlights': False, 'audio_start_from': None, 'audio_end_at': None, 'word_boost': [], 'boost_param': None, 'filter_profanity': False, 'redact_pii': False, 'redact_pii_audio': False, 'redact_pii_audio_quality': None, 'redact_pii_policies': None, 'redact_pii_sub': None, 'speaker_labels': False, 'content_safety': False, 'iab_categories': False, 'content_safety_labels': {}, 'iab_categories_result': {}}\n"
          ],
          "name": "stdout"
        }
      ]
    },
    {
      "cell_type": "code",
      "metadata": {
        "id": "UJmFJrRXh_1i",
        "colab": {
          "base_uri": "https://localhost:8080/"
        },
        "outputId": "a72f5c57-0ee3-4254-b6ff-26677eaf2688"
      },
      "source": [
        "status_point = 'https://api.assemblyai.com/v2/transcript/' + resp.json()['id']\n",
        "\n",
        "status_header = {'authorization':ASSEMBLY_AI_TOKEN} \n",
        "\n",
        "status_check = requests.get(status_point, headers=status_header)\n",
        "\n",
        "print(status_check.json())\n",
        "# print(status_check.json()['text'])"
      ],
      "execution_count": 7,
      "outputs": [
        {
          "output_type": "stream",
          "text": [
            "{'id': 'czev3vzk0-af88-4d5b-ac2b-b2bc8a875203', 'language_model': 'assemblyai_default', 'acoustic_model': 'assemblyai_default', 'status': 'processing', 'audio_url': 'https://cdn.assemblyai.com/upload/c521a949-8484-40bd-99ff-53feea447aae', 'text': None, 'words': None, 'utterances': None, 'confidence': None, 'audio_duration': None, 'punctuate': True, 'format_text': True, 'dual_channel': None, 'webhook_url': None, 'webhook_status_code': None, 'speed_boost': False, 'auto_highlights_result': None, 'auto_highlights': False, 'audio_start_from': None, 'audio_end_at': None, 'word_boost': [], 'boost_param': None, 'filter_profanity': False, 'redact_pii': False, 'redact_pii_audio': False, 'redact_pii_audio_quality': None, 'redact_pii_policies': None, 'redact_pii_sub': None, 'speaker_labels': False, 'content_safety': False, 'iab_categories': False, 'content_safety_labels': {}, 'iab_categories_result': {}}\n"
          ],
          "name": "stdout"
        }
      ]
    },
    {
      "cell_type": "code",
      "metadata": {
        "colab": {
          "base_uri": "https://localhost:8080/"
        },
        "id": "KyJL_TiyIfo2",
        "outputId": "4ff86fa6-8295-4e39-c1e2-d9526063efb9"
      },
      "source": [
        "while status_check.json()['status'] == 'queued' or status_check.json()['status'] == 'processing':\n",
        "  status_check = requests.get(status_point, headers=status_header)\n",
        "  continue\n",
        "\n",
        "print(status_check.json()['status'])\n",
        "print('\\n', status_check.json()['text'])"
      ],
      "execution_count": 8,
      "outputs": [
        {
          "output_type": "stream",
          "text": [
            "completed\n",
            "\n",
            " Every human used to have to Hunt or gather to survive. But humans are smartly, lazy. So we made tools to make our work easier, from sticks to plows to tractors. We've gone from everyone needing to make food to modern agriculture with almost no one needing to make food. And yet we still have abundance. Of course, it's not just farming, it's everything. We've spent the last several thousand years building tools to reduce physical Labor of all kinds. These are mechanical muscles, stronger, more reliable, and more tireless than human muscle muscles ever could be. And that's a good thing. Replacing human Labor with mechanical muscles freeze people to specialize, and that leaves everyone better off, even those still doing physical Labor. This is how economies grow and standards of living rise. Some people have specialized to be programmers and engineers whose job is to build mechanical minds, just as mechanical muscles made human Labor less in demand. So our mechanical minds making human brain Labor less in demand. This is an economic revolution. You may think we've been here before, but we have. This time is different. When you think of automation, you probably think of this giant, custom built, expensive, efficient, but really dumb robots blind to the world and their own work. They were a scary kind of automation, but they haven't taken over the world because they're only cost effective in narrow situations. But they're the old kind of automation. This is the new kind. Meet Baxter. Unlike these things, which require skilled operators and technicians and millions of dollars, Baxter has vision and can learn what you want him to do by Wi thing. You do it, and he costs less than the average annual salary of a human worker. Unlike his older brothers, he isn't preprogrammed for one specific job. He can do whatever work is within the reach of his arms. Baxter is what might be thought of as a general purpose robot, and general purpose is a big deal. Think computers. They too, started out as highly custom and highly expensive. But when cheapish general purpose computers appeared, they quickly became vital to everything. A general purpose computer can just as easily calculate chains or assign seats on an airplane or play a game or do anything just by swapping its software. And this huge demand for computers of all kinds is what makes them both more powerful and cheaper every year. Baxter, today is the computer of the 19 80? S. He's not the apex, but the beginning. Even if Baxter is slow, his hourly cost is pennies worth of electricity, while his meat based competition costs minimum wage. The tenth of the speed is still cost effective when it's 100 th of price. And while Baxter isn't as smart as some of the other things we will talk about, he's smart enough to take over many low skilled jobs. And we've already seen how dumber robots then Baxter can replace jobs in new supermarkets. What used to be 30 humans is now one human overseeing 30 cashier robots. Or take the hundreds of thousands of baristas employed worldwide. There's a barista robot coming for them. Sure, maybe your guy makes the double milk or whatever just perfect. And you'd never trust anyone else. But millions of people don't care and just want a decent Cup of coffee. Oh, and by the way, this robot is actually a giant network of robots that remembers who you are and how you like your coffee, no matter where you are. Pretty convenient. We think of technological change as the fancy new, expensive stuff. But the real change comes from last decade stuff getting cheaper and faster. That's what's happening to robots now. And because their mechanical minds are capable of decisionmaking, they are outcompeting humans for jobs. In a way no pure mechanical muscle ever could imagine a pair of horses in the early 1 900 talking about technology. One worries all these new mechanical muscles will make horses unnecessary. The other reminds him that everything so far has made their lives easier. Remember all that farm work? Remember running from Coast to Coast, delivering mail? Remember riding into battle? All terrible. These new city jobs are pretty cushy. And with so many humans in the cities, there will be more jobs for horses than ever. Even if this car thing he takes off, he might say there will be new jobs for horses. We can't imagine. But you, dear viewer from Beyond 2,000, No. What happened? There are still working horses, but nothing like before the horse population peaked in 19 15. From that point on, it was nothing but down. There isn't a rule of economics that says better technology makes more better jobs for horses. It sounds shockingly dumb to even say that out loud. But swap horses for humans. And suddenly people think it sounds about right. As mechanical muscles push horses out of the economy, mechanical minds will do the same to humans, not immediately, not everywhere, but in large enough numbers. And soon enough that it's going to be a huge problem if we're not prepared and we're not prepared, you like the second horse may look at the state of technology now and think it can't possibly replace your job. But technology gets better, cheaper and faster. At a rate biology can't match, just as the car was the beginning of the end for the horse. So now does the car show us the shape of things to come? Self driving cars aren't the future. They're here and they work. Selfdriving cars have traveled hundreds of thousands of miles up and down the California Coast and through cities, all without human intervention. The question is, not if they'll replace cars, but how quickly. They don't need to be perfect. They just need to be better than us. Human drivers, by the way, kill 40 0 people a year with cars just in the United States. Given that selfdriving cars don't blink, don't text while driving, don't get sleepy or stupid. It's easy to see them being better than humans because they already are. Now, to describe selfdriving cars as cars at all is like calling the first cars mechanical horses. Cars in all their forms are so much more than N horses that using the name limits you're thinking about what they can even do. Let's call selfdriving cars what they really are. Autos. The solution to the transport objects from point A to point B problem. Traditional cars happen to be human size to transport humans, but tiny autos can work in warehouses, and gigantic autos can work in pit mines. Moving stuff around is who knows how many jobs. But the transportation industry in the United States employees about 3,000,000 people extrapolating worldwide. That's something like 70,000,000 jobs. At a minimum, these jobs are over. The usual argument is that the unions will prevent it. But history is filled with workers who fought technology that would replace them, and the workers always lose. Economics always wins, and there are huge incentives across wildly diverse industries to adopt autos. For many transportation companies, humans are about a third their total costs. That's just the straight salaries. Humans sleeping in their long haul trucks cost time and money. Accidents cost money. Carelessness cost money. If you think insurance companies will be against it, guess what? Their perfect driver is one who pays their small premiums and never gets into an accident. The autos are coming, and they're the first place where most people will really see the robots changing society. But there are many other places in the economy where the same thing is happening, just less visibly. So it goes with autos, so it goes for everything. It's easy to look at autos and Baxters and think technology has always gotten rid of low skill jobs we don't want people doing anyway. They'll get more skilled and do better educated jobs like they've always done. Even ignoring the problem of pushing 100,000,000 additional people through higher education, white collar work is no safe haven either. If your job is sitting in front of a screen and typing and clicking like maybe you're supposed to be doing right now, the bots are coming for YouTube buddy. Software bots are both intangible and way faster and cheaper than physical robots. Given that white collar workers are, from a company's perspective, both more expensive and more numerous, the incentive to automate their work is greater than low skilled work. And that's just what automation engineers are for. These are skilled programmers whose entire job is to replace your job with a software bot. You may think even the world's smartest automation engineer could never make a bot to do your job, and you may be right. But the cutting edge of programming isn't Super smart programmers writing bots. It's Super smart programmers writing bots that teach themselves how to do things the programmer could never teach them to do. How that works is well beyond the scope of this video. But the bottom line is there are limited ways to show about a bunch of stuff to do. Show the bot a bunch of correctly done stuff, and it can figure out how to do the job to be done, even just a goal and no knowledge of how to do it. The bots can still learn take the stock market, which in many ways is no longer a human endeavor. It's mostly bots that taught themselves to trade stocks, trading stocks with other bots that taught themselves. As a result, the floor of the New York Stock Exchange isn't filled with traders doing their day jobs anymore. It's largely a TV set. So bots have learned the market, and bots have learned to write. If you picked up a newspaper lately, you've probably already read a story written by a bot. There are companies that teach bots to write anything, sport stories, TPS reports even say those quarterly reports that you write at work. Paperwork, decisionmaking writing. A lot of human work falls into that category, and the demand for human mental Labor in these areas is on the way down. But surely the professions are still save from bots. Yes, when you think lawyer, it's easy to think of trials, but the bulk of lawyering is actually drafting legal documents predicting the likely outcome and impact of lawsuits. And something called discovery, which is where boxes of paperwork gets dumped on the lawyers, and they need to find the pattern or the one out of place transaction among it all. This can be bot work. Discovery, in particular, is already not a human job in many law firms, not because there isn't paperwork to go through, there's more of it than ever, but because clever research. Bots shift through millions of emails, memos and accounts in hours, not weeks, crushing human researchers in terms of not just cost and time, but most importantly, accuracy. Bots don't get sleepy reading through a million emails, but that's the simple stuff. Ibm has a bot named Watson. You may have seen him on TV destroy humans at Jeopardy, but that was just a fun side project for him. Watson's day job is to be the best doctor in the world, to understand what people say in their own words and give back accurate diagnoses. He's already doing that at Sloan Kettering, giving guidance on lung cancer treatments. Just as autos don't need to be perfect, they just need to make fewer mistakes than humans. The same goes for doctor bots. Human doctors are by no means perfect. The frequency and severity of misdiagnoses are terrifying, and human doctors are severely limited in dealing with a humans complicated medical history. Understanding every drug in every drug interaction with every other drug is beyond the scope of human knowability, especially when there are research robots whose whole job it is to test thousands NS of new drugs at a time. And human doctors can only improve through their own experiences. Doctor bots can learn from the experience of every doctor bot can read the latest in medical research and keep track of everything that happens to all their patients worldwide and make correlations that would be impossible to find otherwise. Not all doctors will go away. But when the doctor bots are comparable to humans and they're only as far away as your phone, the need for general doctors will be less so. Professionals, white collar workers, and low skill workers all have things to worry about from automation. But perhaps you are unphased because you're a special creative Snowflake. Well, guess what? You're not that special creativity may feel like magic, but it isn't. The brain is a complicated machine, perhaps the most complicated machine in the whole universe. But that hasn't stopped us from trying to simulate it. There is this notion that just as mechanical muscles allowed us to move into thinking jobs, that mechanical minds will allow us to move into creative work. But even if we assume the human mind is magically creative, it's not. But just for the sake of argument, artistic creativity isn't what the majority of job is. Penn on. The number of writers and poets and directors and actors and artists who actually make a living doing their work is a tiny, tiny portion of the Labor force. And given that these are professions dependent on popularity, they'll always be a very small portion of the population. There can't be such a thing as a poem and painting based economy. Oh, by the way, this music in the background that you're listening to, it was written by a bot. Her name is Emily Howell, and she can write an infinite amount of new music all day for free. And people can't tell the difference between her and human composers. When put to a blind test, talking about artificial creativity gets weird fast. What does that even mean? But nonetheless, it's a developing field. People used to think that playing chess was uniquely creative. Human feel that machines could never do right up until the point they beat the best of us. And so it will go for all human talents. Right? This may have been a lot to take in, and you might want to reject it. It's easy to be cynical of the endless and idiotic predictions of futures that never are. So that's why it's important to emphasize again that this stuff isn't science fiction. The robots are here. Right now. There is a terrifying amount of working automation in labs and warehouses around the world. We have been through economic revolutions before, but the robot revolution is different. Horses aren't unemployed now because they got lazy as the species. They're unemployable. There's little work that a horse can do to pay for its housing in hay. And many bright, perfectly capable humans will find themselves the new horse unemployable through no fault of their own. But if you still think new jobs will save us, here is one final point to consider the Us Census in 17, 76 tracked only a few kinds of jobs. Now there are hundreds of kinds of jobs, but the new ones are not a significant part of the Labor force. Here's the list of jobs ranked by the number of people who reform them. It's a sobering list, with the transportation industry at the top continuing downward. All of this work existed in some form 100 years ago, and almost all of them are easy targets for automation. Only when we get to number 33 on the list is they're finally something new. Don't think that every barista or white collar worker need lose their job before things are a problem. The unemployment rate during the Great Depression was 25%. The list above is 45% of the workforce. Just what we've talked about today, the stuff that already works can push us over that number pretty soon. And given that even in our modern technological Wonderland, new kinds of work aren't a significant portion of the economy, this is a big problem. This video isn't about how automation is bad. Rather that automation is inevitable. It's a tool to produce abundance. For little effort. We need to start thinking now about what to do when large sections of the population are unemployable through no fault of their own. What to do in in the future where for most jobs, humans need not apply.\n"
          ],
          "name": "stdout"
        }
      ]
    },
    {
      "cell_type": "markdown",
      "metadata": {
        "id": "tiqpeFpZiuJi"
      },
      "source": [
        "#Transcribing YouTube Videos Using AssemblyAI in Python\n",
        "\n",
        "In this post, we’re going to show you how to transcribe YouTube videos, by connecting just the video url to AssemblyAI’s automatic speech recognition API in Python. More specifically, we’ll walk you through:\n",
        "\n",
        "- Using python packages to convert a YouTube URL into a transcribable audio file\n",
        "- Signing up for an AssemblyAI API token\n",
        "- Submitting the audio file to AssemblyAI for transcription\n",
        "- Feasting your eyes on that transcription you’ve long awaited!\n",
        "\n",
        "I'm going to demonstrate this transcription process on a seminal video from my past, which was  influential in my decision to go into Machine Learning Engineering. The video, about the economics of automation, is called [Humans Need Not Apply](https://www.youtube.com/watch?v=7Pq-S557XQU&t=13s) by one of my favorite online intellectuals, [CGP Grey](https://www.youtube.com/user/CGPGrey).\n",
        "\n",
        "Buckle up nerds! This roller coaster's fast, blink and you'll miss it!\n",
        "\n",
        "## Strip the Audio from the YouTube video: Python Packages For the Win\n",
        "\n",
        "Crack open your code editor, and feed into it the following magic commands:\n",
        "\n",
        "```\n",
        "!pip install pafy\n",
        "!apt install ffmpeg\n",
        "!sudo pip install --upgrade youtube_dl\n",
        "```\n",
        "\n",
        "*Pafy*, in tandem with *youtube_dl* iterate through chunks of the YouTube video feed to convert it into whichever video format will optimize the quality of the stripped audio data, usually a .webm file. And the cherry to top that sundae is the *ffmpeg* package, which will strip the audio of the video file, outputting a transcription-ready audio file.\n",
        "\n",
        "In this sample code, we will convert it to good ol' reliable mp3 to feed it into AssemblyAI for transcription, [though AssemblyAI can handle many ubiquitous audio and video formats](https://docs.assemblyai.com/overview/supported-file-formats).\n",
        "\n",
        "Use the following code, courtesy of [Priya Ganjikunta](https://knowpythonwithpriya.wordpress.com/2017/09/12/youtube-url-to-mp3-converter/), to extract an audio file from your YouTube URL.\n",
        "```\n",
        "import pafy\n",
        "import subprocess\n",
        "import os\n",
        "import sys\n",
        "\n",
        "URL=\"https://www.youtube.com/watch?v=7Pq-S557XQU&t=13s\"\n",
        "\n",
        "video = pafy.new(URL)\n",
        "title = video.title.replace(\" \", \"_\")\n",
        "\n",
        "bestaudio = video.getbestaudio()\n",
        "BESTFILE = os.getcwd() + \"/\" + str(title) + \".\" + str(bestaudio.extension)\n",
        "MP3FILE = os.getcwd() + \"/\" + str(title) + \".mp3\"\n",
        "bestaudio.download(BESTFILE)\n",
        "\n",
        "command = \"ffmpeg -i \"+str(BESTFILE)+\" -vn -ab 128k -ar 44100 -y \"+str(MP3FILE)\n",
        "print(\"Command to convert audio file to .mp3 format: \", command)\n",
        "subprocess.call(command, shell=True)\n",
        "os.remove(BESTFILE)\n",
        "```\n",
        "\n",
        "That should drop a fresh mp3 into your working directory, which you can play to check that the packages did their job.\n",
        "\n",
        "Now, as the roller coaster click-click-clicks closer to its apex, we must register with AssemblyAI's API to bring us over the hump!\n",
        "\n",
        "## Sign Up for an AssemblyAI API Token\n",
        "\n",
        "You can sign up for a [free AssemblyAI](https://app.assemblyai.com/login/) account in seconds by just entering your email address. After you verify your account from your email address, you're taken right back to your new account where you can see your API token in your dashboard.\n",
        "\n",
        "![AssemblyAI_key](https://github.com/ddodds42/AssemblyAI_Data_Writing/raw/master/Zoom_API_Post/screencaps/Assembly_AI_API_Key.png)\n",
        "\n",
        "Take that API Token and add it to a **tokens.env** file in your working directory, with it's own unique variable name. You can create this file in a simple text editor or code editor. This is what the text of your **tokens.env** file should look like:\n",
        "\n",
        "```\n",
        "ASSEMBLYAI_TOKEN = COPY_PASTA_THAT_API_KEY_HERE_ONCE_YOU_SIGN_UP_AT_ASSEMBLYAI\n",
        "```\n",
        "\n",
        "And now... the roller coaster *drops*. WOOOH! Let's transcribe with AssemblyAI's API!\n",
        "\n",
        "## Submit the MP3 to AssemblyAI for Transcription\n",
        "\n",
        "This next code block allows you to use the variable in your **tokens.env** file to feed your precious, covert AssemblyAI API key into your transcription code anonymously. If others see your transcription code, they will not be able to see your API key without the **tokens.env** file.\n",
        "\n",
        "```\n",
        "!pip install python-dotenv\n",
        "\n",
        "from dotenv import load_dotenv\n",
        "from pathlib import Path\n",
        "import os\n",
        "\n",
        "env_path = Path('.')/'tokens.env'\n",
        "load_dotenv(dotenv_path=env_path)\n",
        "ASSEMBLY_AI_TOKEN = os.getenv(\"ASSEMBLYAI_TOKEN\")\n",
        "```\n",
        "\n",
        "Now, let's upload that mp3 file to AssemblyAI.\n",
        "```\n",
        "import sys\n",
        "import time\n",
        "import requests\n",
        "\n",
        "filename = MP3FILE\n",
        "\n",
        "def read_file(filename, chunk_size=5242880):\n",
        "  with open(filename, 'rb') as _file:\n",
        "    while True:\n",
        "      data = _file.read(chunk_size)\n",
        "      if not data:\n",
        "        break\n",
        "      yield data\n",
        "\n",
        "headers = {'authorization': ASSEMBLY_AI_TOKEN}\n",
        "\n",
        "response = requests.post(\n",
        "    'https://api.assemblyai.com/v2/upload',\n",
        "    headers=headers, data=read_file(filename)\n",
        ")\n",
        "\n",
        "print(response.json())\n",
        "```\n",
        "\n",
        "A successful upload will yield a JSON response similar this:\n",
        "```\n",
        "{\"upload_url\": \"https://cdn.assemblyai.com/upload/ccbbbfaf-f319-4455-9556-272d48faaf7f\"}\n",
        "```\n",
        "\n",
        "The code below uses the **upload_url** key value from the JSON response to queue the audio file for transcription.\n",
        "```\n",
        "endpoint = 'https://api.assemblyai.com/v2/transcript'\n",
        "\n",
        "json = {\n",
        "    # 'audio_url': response.json()['upload_url']\n",
        "    'audio_url': response.json()['upload_url']\n",
        "}\n",
        "\n",
        "heads = {\n",
        "    'authorization': ASSEMBLY_AI_TOKEN,\n",
        "    'content-type': 'application/json'\n",
        "}\n",
        "\n",
        "resp = requests.post(endpoint, json=json, headers=heads)\n",
        "print(resp.json())\n",
        "```\n",
        "\n",
        "A successful response will look like so, displaying the **\"status\" : \"queued\"**\n",
        "```\n",
        "{\n",
        "    # keep track of the id for later\n",
        "    \"id\": \"5551722-f677-48a6-9287-39c0aafd9ac1\",\n",
        "    # note that the status is currently \"queued\"\n",
        "    \"status\": \"queued\",    \n",
        "    \"acoustic_model\": \"assemblyai_default\",\n",
        "    \"audio_duration\": null,\n",
        "    \"audio_url\": \"https://s3-us-west-2.amazonaws.com/blog.assemblyai.com/audio/8-7-2018-post/7510.mp3\",\n",
        "    \"confidence\": null,\n",
        "    \"dual_channel\": null,\n",
        "    \"format_text\": true,\n",
        "    \"language_model\": \"assemblyai_default\",\n",
        "    \"punctuate\": true,\n",
        "    \"text\": null,\n",
        "    \"utterances\": null,\n",
        "    \"webhook_status_code\": null,\n",
        "    \"webhook_url\": null,\n",
        "    \"words\": null\n",
        "}\n",
        "```\n",
        "\n",
        "## Get that transcription you've been longing for!!\n",
        "\n",
        "This code below will check the status of the transcription...\n",
        "\n",
        "```\n",
        "status_point = 'https://api.assemblyai.com/v2/transcript/' + resp.json()['id']\n",
        "\n",
        "status_header = {'authorization':ASSEMBLY_AI_TOKEN} \n",
        "\n",
        "status_check = requests.get(status_point, headers=status_header)\n",
        "\n",
        "print(status_check.json())\n",
        "# print(status_check.json()['text'])\n",
        "```\n",
        "\n",
        "A successful response will display **\"status\" : \"processing\"**.\n",
        "\n",
        "Audio files take around 25% of their audio duration to complete, so a 10 minute audio file would complete within 2.5 minutes. You'll want to run the following code, which will loop until the **\"status\"** key shows **\"completed\"**.\n",
        "\n",
        "```\n",
        "while status_check.json()['status'] == 'queued' or status_check.json()['status'] == 'processing':\n",
        "  status_check = requests.get(status_point, headers=status_header)\n",
        "  continue\n",
        "\n",
        "print(status_check.json()['status'])\n",
        "print('\\n', status_check.json()['text'])\n",
        "```\n",
        "\n",
        "And there it is! CGP Grey's wisdom transcribed, by the very technology which he ponders in \"*Humans Need Not Apply*\", faster then any human could ever transcribe.\n",
        "\n",
        "```\n",
        "completed\n",
        "\n",
        "\"Every human used to have to Hunt or gather to survive. But humans are smartly,\n",
        "lazy. So we made tools to make our work easier, from sticks to plows to\n",
        "tractors. We've gone from everyone needing to make food to modern agriculture\n",
        "with almost no one needing to make food. And yet we still have abundance. Of\n",
        "course, it's not just farming, it's everything...\"\n",
        "```\n",
        "\n",
        "Take a gander with a favorite YouTube video of your own, and happy transcribing!\n",
        "\n",
        "![Ex_Machina_Meme](https://github.com/ddodds42/AssemblyAI_Data_Writing/raw/master/YouTube_Post/ex_machina_meme.JPG)"
      ]
    },
    {
      "cell_type": "code",
      "metadata": {
        "id": "ERxwntHc8cAx"
      },
      "source": [
        ""
      ],
      "execution_count": null,
      "outputs": []
    }
  ]
}