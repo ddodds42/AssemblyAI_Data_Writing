{
  "nbformat": 4,
  "nbformat_minor": 0,
  "metadata": {
    "colab": {
      "name": "Zoom_AssemblyAI_API_simple_connection.ipynb",
      "provenance": [],
      "collapsed_sections": []
    },
    "kernelspec": {
      "name": "python3",
      "display_name": "Python 3"
    },
    "language_info": {
      "name": "python"
    }
  },
  "cells": [
    {
      "cell_type": "code",
      "metadata": {
        "id": "gRafBFla9lWj"
      },
      "source": [
        "!pip install authlib\n",
        "!pip install python-dotenv"
      ],
      "execution_count": null,
      "outputs": []
    },
    {
      "cell_type": "code",
      "metadata": {
        "id": "At_-jk-7_KtN"
      },
      "source": [
        "import sys\n",
        "import time\n",
        "import requests\n",
        "import authlib\n",
        "import os\n",
        "import urllib.request\n",
        "from dotenv import load_dotenv\n",
        "from pathlib import Path\n",
        "from typing import Optional, Dict, Union, Any\n",
        "from authlib.jose import jwt\n",
        "from requests import Response\n",
        "import http.client\n",
        "import json"
      ],
      "execution_count": null,
      "outputs": []
    },
    {
      "cell_type": "code",
      "metadata": {
        "id": "sz0LsK8jAPc7"
      },
      "source": [
        "env_path = Path('.')/'tokens.env'"
      ],
      "execution_count": null,
      "outputs": []
    },
    {
      "cell_type": "code",
      "metadata": {
        "id": "qNwO1xIoAeCG"
      },
      "source": [
        "load_dotenv(dotenv_path=env_path)"
      ],
      "execution_count": null,
      "outputs": []
    },
    {
      "cell_type": "code",
      "metadata": {
        "id": "r-ePiwGVAg1V"
      },
      "source": [
        "API_KEY= os.getenv(\"USE_STEPS_ABOVE_TO_GET_YOUR_VERY_OWN_API_KEY\")\n",
        "API_SECRET= os.getenv(\"USE_STEPS_ABOVE_TO_GET_YOUR_VERY_OWN_API_SECRET\")\n",
        "ASSEMBLY_AI_TOKEN = os.getenv(\"SIGN_UP_AT_ASSEMBLYAI_TO_GET_YOUR_VERY_OWN_ASSEMBLYAI_API_TOKEN\")\n",
        "MEETING_ID = os.getenv('USE_STEPS_ABOVE_TO_FIND_YOUR_MEETING_ID')"
      ],
      "execution_count": null,
      "outputs": []
    },
    {
      "cell_type": "code",
      "metadata": {
        "id": "GEv31NJxA3WR"
      },
      "source": [
        "class Zoom:\n",
        "    def __init__(\n",
        "        self, api_key: str, api_secret: str\n",
        "        # , userId: str, meetingId: str\n",
        "        ):\n",
        "        self.api_key = api_key\n",
        "        self.api_secret = api_secret\n",
        "        self.userId = 'me'\n",
        "        self.meetingId = None\n",
        "        self.base_url = \"https://api.zoom.us/v2\"\n",
        "        self.reports_url = f\"{self.base_url}/report/meetings\"\n",
        "        self.list_recordings_url = f\"{self.base_url}/users/{self.userId}/recordings\"\n",
        "        self.get_recordings_url = f\"{self.base_url}/meetings/{self.meetingId}/recordings\"\n",
        "        self.jwt_token_exp = 518400\n",
        "        self.jwt_token_algo = \"HS256\"\n",
        "\n",
        "    def generate_jwt_token(self) -> bytes:\n",
        "        iat = int(time.time())\n",
        "\n",
        "        jwt_payload: Dict[str, Any] = {\n",
        "            \"aud\": None,\n",
        "            \"iss\": self.api_key,\n",
        "            \"exp\": iat + self.jwt_token_exp,\n",
        "            \"iat\": iat\n",
        "        }\n",
        "\n",
        "        header: Dict[str, str] = {\"alg\": self.jwt_token_algo}\n",
        "\n",
        "        jwt_token: bytes = jwt.encode(header, jwt_payload, self.api_secret)\n",
        "\n",
        "        return jwt_token"
      ],
      "execution_count": null,
      "outputs": []
    },
    {
      "cell_type": "code",
      "metadata": {
        "id": "hqmX8GDOBZ2M"
      },
      "source": [
        "zoom = Zoom(API_KEY, API_SECRET)"
      ],
      "execution_count": null,
      "outputs": []
    },
    {
      "cell_type": "code",
      "metadata": {
        "id": "HGzVveIfBhQK"
      },
      "source": [
        "jwt_token: bytes = zoom.generate_jwt_token()\n",
        "jwt_token_str = jwt_token.decode('UTF-8')\n",
        "print(jwt_token_str)"
      ],
      "execution_count": null,
      "outputs": []
    },
    {
      "cell_type": "code",
      "metadata": {
        "id": "zg8B22K4Bq9F"
      },
      "source": [
        "conn = http.client.HTTPSConnection(\"api.zoom.us\")\n",
        "\n",
        "headers = { 'authorization': 'Bearer ' + jwt_token_str}\n",
        "\n",
        "conn.request(\n",
        "    \"GET\", '/v2/meetings/' + MEETING_ID + '/recordings', headers=headers\n",
        "    )\n",
        "\n",
        "res = conn.getresponse()\n",
        "data = res.read()\n",
        "\n",
        "response_obj = (data.decode(\"utf-8\"))\n",
        "\n",
        "print(response_obj)"
      ],
      "execution_count": null,
      "outputs": []
    },
    {
      "cell_type": "code",
      "metadata": {
        "id": "JOLcDR1NC7Xo"
      },
      "source": [
        "meeting_dict = json.loads(response_obj)\n",
        "download_url = meeting_dict['recording_files'][0]['download_url']\n",
        "download_url"
      ],
      "execution_count": null,
      "outputs": []
    },
    {
      "cell_type": "code",
      "metadata": {
        "id": "KZ_QUB80C-yM"
      },
      "source": [
        "authorized_url = download_url + \"?access_token=\" + jwt_token_str"
      ],
      "execution_count": null,
      "outputs": []
    },
    {
      "cell_type": "code",
      "metadata": {
        "id": "LhWIHiVjDFFc"
      },
      "source": [
        "endpoint = 'https://api.assemblyai.com/v2/transcript'\n",
        "\n",
        "json = {\n",
        "    'audio_url': authorized_url\n",
        "}\n",
        "\n",
        "heads = {\n",
        "    'authorization': ASSEMBLY_AI_TOKEN,\n",
        "    'content-type': 'application/json'\n",
        "}\n",
        "\n",
        "resp = requests.post(endpoint, json=json, headers=heads)\n",
        "print(resp.json())"
      ],
      "execution_count": null,
      "outputs": []
    },
    {
      "cell_type": "code",
      "metadata": {
        "id": "Q3qEq2A4DWzb"
      },
      "source": [
        "status_point = 'https://api.assemblyai.com/v2/transcript/' + resp.json()['id']\n",
        "\n",
        "status_header = {'authorization':ASSEMBLY_AI_TOKEN} \n",
        "\n",
        "status_check = requests.get(status_point, headers=status_header)\n",
        "\n",
        "print(status_check.json())"
      ],
      "execution_count": null,
      "outputs": []
    },
    {
      "cell_type": "code",
      "metadata": {
        "id": "4mEJd2icDaMz"
      },
      "source": [
        "status_check.json()['text']"
      ],
      "execution_count": null,
      "outputs": []
    },
    {
      "cell_type": "code",
      "metadata": {
        "id": "8gswxV66Dkzh"
      },
      "source": [
        ""
      ],
      "execution_count": null,
      "outputs": []
    },
    {
      "cell_type": "markdown",
      "metadata": {
        "id": "h5AomgDWlK1W"
      },
      "source": [
        "# Transcribing Zoom recordings using the Zoom API and AssemblyAI in Python\n",
        "\n",
        "![Zoom_90s](https://github.com/ddodds42/AssemblyAI_Data_Writing/raw/master/Zoom_API_Post/zoom90s.gif)\n",
        "\n",
        "Wow, Zoom did itself a huge favor by rebranding since the 90's. This might actually be the main reason they survived the dotcom bubble.\n",
        "\n",
        "Shame on you if that wry joke is over your head.\n",
        "\n",
        "Zoom even has an API now folks! One of the many reasons to finally awaken from that 25 year coma! That's right, come back alive to the real simulation, and I'll show you how to use AssemblyAI to transcribe the words spoken in those Zoom meetings that have become such a ubiquitous aspect of our lives.\n",
        "\n",
        "![matrix](https://github.com/ddodds42/AssemblyAI_Data_Writing/raw/master/Zoom_API_Post/matrix.gif)\n",
        "\n",
        "\n",
        "## Creating a Cloud Recording on Zoom\n",
        "The first thing to know when creating a cloud recording in Zoom is that you must have a Pro, Business, or Enterprise account. The basic free Zoom plan does not have a meeting recording feature enabled. You may already have such a plan, and may already have cloud recordings ready for transcription, in which case, you can skip to the next header and keep rolling.\n",
        "\n",
        "But if you've just gotten an upgraded Zoom account for your project, and you still need to create a cloud recording, a few things to keep in mind:\n",
        "\n",
        "- You do not need to have another person on the meeting for cloud recording to work. No need to schedule with someone else, just let it rip on your device and start the recording.\n",
        "\n",
        "- The button looks like this if you're on a desktop, laptop, or large tablet:\n",
        "![desktop_button](https://github.com/ddodds42/AssemblyAI_Data_Writing/raw/master/Zoom_API_Post/desktop_recording_button.jpg)\n",
        "\n",
        "- If you're on a phone or small tablet, the cloud recording button hides down yonder behind those 3 dots.\n",
        "![phone_button](https://github.com/ddodds42/AssemblyAI_Data_Writing/raw/master/Zoom_API_Post/phone_button.jpg)\n",
        "\n",
        "- If you would like to test cloud recording and transcription with multiple people on the line, and you happen to be doing this with a friend's device that's in the same room, a couple of acoustic notes. You'll want to make sure that only one device as unmuted and producing sound, or the feedback will scratch at your eardrums.\n",
        "\n",
        "- Another strange thing I noticed while cloud recording with multiple devices is that only the non-host's device will feed sound to the recording while you're muting one to prevent feedback. For some reason, if the host's device is unmuted while you're speaking, that sound will not be captured by Zoom's cloud recording.\n",
        "\n",
        "- You might as well dodge both of those recording dilemmas by having each person and each device in separate rooms. That way the sound barriers prevent the feedback, and both parties can unmute.\n",
        "\n",
        "Whew, now that those details are out of the way, end that meeting, and let's go find the cloud recording.\n",
        "\n",
        "Upon ending the recording, a pop-up box will tell you that you will get an email once the recording is ready. Zoom's help pages cautiously warn users that it could take 24-48 hours for it to be ready, but that was likely the reality in early 2020 when the whole world flocked onto Zoom before their systems were ready for that level of traffic. It may still take a while for longer recordings, but I've found that here in 2021, for the short test recordings I've been transcribing, they are ready just about immediately.\n",
        "\n",
        "Wow it feels great to talk trash about 2020 like it's a long-gone ex.\n",
        "\n",
        "Anyway, to find your recording, sign into Zoom, and navigate to My Account.\n",
        "![my_account](https://github.com/ddodds42/AssemblyAI_Data_Writing/raw/master/Zoom_API_Post/screencaps/mtg_my_account.JPG)\n",
        "\n",
        "To the left, to the left, everything you want in a link to the left. Click on that \"Recordings\" tab over yonder on the left side.\n",
        "![recordings](https://github.com/ddodds42/AssemblyAI_Data_Writing/raw/master/Zoom_API_Post/screencaps/mtg_recordings.JPG)\n",
        "\n",
        "And now, the promised land! There you will see your cloud recordings, ready for you in mp4 and m4a format.\n",
        "![recording_list](https://github.com/ddodds42/AssemblyAI_Data_Writing/raw/master/Zoom_API_Post/screencaps/mtg_recording_list.JPG)\n",
        "Keep that open in a tab or write down the Meeting ID's of the meetings you want to transcribe, you'll need that 11-digit code once we touch code later.\n",
        "\n",
        "## Accessing Zoom's API\n",
        "Now, let's step through the process of getting keys to Zoom's backdoor. I'd like to give a shoutout to Billy Harmawan for [spelling out this convoluted process](https://medium.com/swlh/how-i-automate-my-church-organisations-zoom-meeting-attendance-reporting-with-python-419dfe7da58c). I'll give you the gist of it here too.\n",
        "\n",
        "First, "
      ]
    },
    {
      "cell_type": "code",
      "metadata": {
        "id": "4QHjW06tJg61"
      },
      "source": [
        ""
      ],
      "execution_count": null,
      "outputs": []
    }
  ]
}